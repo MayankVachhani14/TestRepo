{
 "cells": [
  {
   "cell_type": "markdown",
   "id": "e9e53783-ce7c-486e-948b-d2c9a56e7e99",
   "metadata": {},
   "source": [
    "# Data Science Tools and Ecosystem"
   ]
  },
  {
   "cell_type": "markdown",
   "id": "720bb3c1-80a9-4652-aee4-1712fef19248",
   "metadata": {},
   "source": [
    "In this notebook, Data Science Tools and Ecosystem are summarized."
   ]
  },
  {
   "cell_type": "markdown",
   "id": "4b559629-74be-4210-88ab-84cd9741aca3",
   "metadata": {},
   "source": [
    "### Some of the popular languages that Data Scientists use are:\n",
    "1. Python\n",
    "2. R\n",
    "3. Java\n",
    "4. Scala"
   ]
  },
  {
   "cell_type": "markdown",
   "id": "fa3b2622-9faf-4718-8f55-ebc21eae394a",
   "metadata": {
    "jp-MarkdownHeadingCollapsed": true
   },
   "source": [
    "### Some of the key takeaways from the course\n",
    "**Objectives:**\n",
    "* Python\n",
    "* JavaScript\n",
    "* R\n",
    "* Scala"
   ]
  },
  {
   "cell_type": "markdown",
   "id": "4bb5b53d-13dd-4663-8fc2-1ce267933c92",
   "metadata": {},
   "source": [
    "### Some of the commonly used libraries used by Data Scientists include:\n",
    "1. Pandas\n",
    "2. Matplotlib\n",
    "3. Numpy\n",
    "4. Scikit-learn\n",
    "5. Tensorflow\n",
    "6. Keras"
   ]
  },
  {
   "cell_type": "markdown",
   "id": "b58f1978-4e3f-4142-9ad8-dbe6e119e6ad",
   "metadata": {},
   "source": [
    "|Data Science Tools|\n",
    "|------------------|\n",
    "|Jupyter Notebook|\n",
    "|Jupyter Lab|\n",
    "|R Studio|"
   ]
  },
  {
   "cell_type": "markdown",
   "id": "7997dd67-a225-423f-b99c-8a440ef3d6a0",
   "metadata": {},
   "source": [
    "# Introducing arithmetic expression examples\n",
    "### Below are a few examples of evaluating arithmetic expressions in Python"
   ]
  },
  {
   "cell_type": "code",
   "execution_count": 50,
   "id": "58321ddf-f7c0-4eae-83f3-8d44e9eb401a",
   "metadata": {},
   "outputs": [
    {
     "data": {
      "text/plain": [
       "17"
      ]
     },
     "execution_count": 50,
     "metadata": {},
     "output_type": "execute_result"
    }
   ],
   "source": [
    "# This a simple arithmetic expression to mutiply then add integers\n",
    "(3*4)+5"
   ]
  },
  {
   "cell_type": "code",
   "execution_count": 51,
   "id": "46564efe-250b-428b-b935-0edfcd3797c1",
   "metadata": {},
   "outputs": [
    {
     "data": {
      "text/plain": [
       "3.3333333333333335"
      ]
     },
     "execution_count": 51,
     "metadata": {},
     "output_type": "execute_result"
    }
   ],
   "source": [
    "# This will convert 200 minutes to hours by diving by 60\n",
    "200/60"
   ]
  },
  {
   "cell_type": "markdown",
   "id": "824b7d01-ebd2-42bc-882a-48eb098dd404",
   "metadata": {},
   "source": [
    "## Author: \n",
    "Mayank Vachhani"
   ]
  },
  {
   "cell_type": "code",
   "execution_count": null,
   "id": "28f8ce89-5819-4941-a55d-dfbdb58a09cc",
   "metadata": {},
   "outputs": [],
   "source": []
  }
 ],
 "metadata": {
  "kernelspec": {
   "display_name": "Python [conda env:base] *",
   "language": "python",
   "name": "conda-base-py"
  },
  "language_info": {
   "codemirror_mode": {
    "name": "ipython",
    "version": 3
   },
   "file_extension": ".py",
   "mimetype": "text/x-python",
   "name": "python",
   "nbconvert_exporter": "python",
   "pygments_lexer": "ipython3",
   "version": "3.12.7"
  }
 },
 "nbformat": 4,
 "nbformat_minor": 5
}
